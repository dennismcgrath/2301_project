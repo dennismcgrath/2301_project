{
 "cells": [
  {
   "cell_type": "code",
   "execution_count": 2,
   "id": "5580097c-5a11-4b19-b753-10b77bd40c23",
   "metadata": {},
   "outputs": [],
   "source": [
    "import ali\n",
    "import mari\n",
    "import shaday\n",
    "import virna\n",
    "import victor\n",
    "import chad\n",
    "import rosemary\n",
    "import ess\n",
    "import rosana\n",
    "import brenda\n",
    "import kosta\n",
    "import marcus\n",
    "import kristian\n",
    "import daphney\n",
    "import diana\n",
    "import sol\n",
    "import adam\n",
    "import chrissy\n",
    "import angelica\n",
    "import tim\n",
    "import aaron\n",
    "import vadim\n",
    "import monica\n",
    "import dennis"
   ]
  },
  {
   "cell_type": "code",
   "execution_count": 3,
   "id": "ea1b74a9-a76c-48d4-903f-7f107f0e0ef5",
   "metadata": {},
   "outputs": [],
   "source": [
    "ali=ali.ali()\n",
    "mari=mari.mari()\n",
    "shaday=shaday.shaday()\n",
    "virna=virna.virna()\n",
    "victor=victor.victor()\n",
    "chad=chad.chad()\n",
    "rosemary=rosemary.rosemary()\n",
    "ess=ess.ess()\n",
    "rosana=rosana.rosana()\n",
    "brenda=brenda.brenda()\n",
    "kosta=kosta.kosta()\n",
    "marcus=marcus.marcus()\n",
    "kristian=kristian.kristian()\n",
    "daphney=daphney.daphney()\n",
    "diana=diana.diana()\n",
    "sol=sol.sol()\n",
    "adam=adam.adam()\n",
    "chrissy=chrissy.chrissy()\n",
    "angelica=angelica.angelica()\n",
    "tim=tim.tim()\n",
    "aaron=aaron.aaron()\n"
   ]
  },
  {
   "cell_type": "code",
   "execution_count": null,
   "id": "1ee5c413-a778-49df-9bad-07e914eb52ce",
   "metadata": {},
   "outputs": [],
   "source": [
    "vadim=vadim.vadim()\n",
    "monica=monica.monica()\n",
    "dennis=dennis.dennis()"
   ]
  },
  {
   "cell_type": "code",
   "execution_count": 4,
   "id": "491e6c2c-f570-49d1-b0d3-d2532dd95bcc",
   "metadata": {},
   "outputs": [],
   "source": [
    "number=10\n",
    "print (\"The starting number is \", number)\n"
   ]
  },
  {
   "cell_type": "code",
   "execution_count": null,
   "id": "bcc441d0-77b5-44d2-8519-04e7418f8ea2",
   "metadata": {},
   "outputs": [],
   "source": [
    "number=dennis.update(number)\n",
    "print (\"Dennis changed the number to \", number)\n",
    "\n",
    "number=monica.update(number)\n",
    "print (\"Monica changed the number to \", number)\n",
    "\n",
    "number=vadim.update(number)\n",
    "print (\"Vadim changed the number to \", number)"
   ]
  },
  {
   "cell_type": "code",
   "execution_count": 5,
   "id": "2850a8bb-0755-488b-ab84-c9912ff1e0e7",
   "metadata": {},
   "outputs": [
    {
     "name": "stdout",
     "output_type": "stream",
     "text": [
      "Ali changed the number to  10\n",
      "Mari changed the number to  10\n",
      "Shaday changed the number to  10\n",
      "Virna changed the number to  10\n",
      "Victor changed the number to  10\n",
      "Chad changed the number to  10\n",
      "Rosemary changed the number to  10\n",
      "Ess changed the number to  10\n",
      "Rosana changed the number to  10\n",
      "Brenda changed the number to  10\n",
      "Kosta changed the number to  10\n",
      "Marcus changed the number to  10\n",
      "Kristian changed the number to  10\n",
      "Daphney changed the number to  10\n",
      "Diana changed the number to  10\n",
      "Sol changed the number to  10\n",
      "Adam changed the number to  10\n",
      "Chrissy changed the number to  10\n",
      "Angelica changed the number to  10\n",
      "Tim changed the number to  10\n",
      "Aaron changed the number to  10\n"
     ]
    }
   ],
   "source": [
    "number=ali.update(number)\n",
    "print (\"Ali changed the number to \", number)\n",
    "\n",
    "number=mari.update(number)\n",
    "print (\"Mari changed the number to \", number)\n",
    "\n",
    "number=shaday.update(number)\n",
    "print (\"Shaday changed the number to \", number)\n",
    "\n",
    "number=virna.update(number)\n",
    "print (\"Virna changed the number to \", number)\n",
    "\n",
    "number=victor.update(number)\n",
    "print (\"Victor changed the number to \", number)\n",
    "\n",
    "number=chad.update(number)\n",
    "print (\"Chad changed the number to \", number)\n",
    "\n",
    "number=rosemary.update(number)\n",
    "print (\"Rosemary changed the number to \", number)\n",
    "\n",
    "number=ess.update(number)\n",
    "print (\"Ess changed the number to \", number)\n",
    "\n",
    "number=rosana.update(number)\n",
    "print (\"Rosana changed the number to \", number)\n",
    "\n",
    "number=brenda.update(number)\n",
    "print (\"Brenda changed the number to \", number)\n",
    "\n",
    "number=kosta.update(number)\n",
    "print (\"Kosta changed the number to \", number)\n",
    "\n",
    "number=marcus.update(number)\n",
    "print (\"Marcus changed the number to \", number)\n",
    "\n",
    "number=kristian.update(number)\n",
    "print (\"Kristian changed the number to \", number)\n",
    "\n",
    "number=daphney.update(number)\n",
    "print (\"Daphney changed the number to \", number)\n",
    "\n",
    "number=diana.update(number)\n",
    "print (\"Diana changed the number to \", number)\n",
    "\n",
    "number=sol.update(number)\n",
    "print (\"Sol changed the number to \", number)\n",
    "\n",
    "number=adam.update(number)\n",
    "print (\"Adam changed the number to \", number)\n",
    "\n",
    "number=chrissy.update(number)\n",
    "print (\"Chrissy changed the number to \", number)\n",
    "\n",
    "number=angelica.update(number)\n",
    "print (\"Angelica changed the number to \", number)\n",
    "\n",
    "number=tim.update(number)\n",
    "print (\"Tim changed the number to \", number)\n",
    "\n",
    "number=aaron.update(number)\n",
    "print (\"Aaron changed the number to \", number)\n"
   ]
  },
  {
   "cell_type": "code",
   "execution_count": 8,
   "id": "187b1c7e-6928-4224-a1c5-99358c4f82a3",
   "metadata": {},
   "outputs": [
    {
     "name": "stdout",
     "output_type": "stream",
     "text": [
      "10\n"
     ]
    }
   ],
   "source": []
  },
  {
   "cell_type": "code",
   "execution_count": null,
   "id": "da1ef80d-3b74-4871-a234-c42010d30108",
   "metadata": {},
   "outputs": [],
   "source": []
  }
 ],
 "metadata": {
  "kernelspec": {
   "display_name": "Python 3 (ipykernel)",
   "language": "python",
   "name": "python3"
  },
  "language_info": {
   "codemirror_mode": {
    "name": "ipython",
    "version": 3
   },
   "file_extension": ".py",
   "mimetype": "text/x-python",
   "name": "python",
   "nbconvert_exporter": "python",
   "pygments_lexer": "ipython3",
   "version": "3.9.7"
  }
 },
 "nbformat": 4,
 "nbformat_minor": 5
}
