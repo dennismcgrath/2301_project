{
 "cells": [
  {
   "cell_type": "code",
   "execution_count": 3,
   "id": "fe0c02d7-3e9b-459c-b598-1b01c8c14f9d",
   "metadata": {},
   "outputs": [],
   "source": [
    "class ali:\n",
    "    def __init__(self):\n",
    "        pass\n",
    "    def update(self, x):\n",
    "        # Method code goes here\n",
    "        return(x)"
   ]
  },
  {
   "cell_type": "code",
   "execution_count": 4,
   "id": "d8efc36a-6405-4a65-b50e-ca4a57b8792d",
   "metadata": {},
   "outputs": [],
   "source": [
    "number=10\n",
    "ali=ali()\n",
    "\n",
    "number=ali.update(number)"
   ]
  },
  {
   "cell_type": "code",
   "execution_count": 5,
   "id": "30437a59-95ba-4f95-97c8-6be5e32810cd",
   "metadata": {},
   "outputs": [
    {
     "data": {
      "text/plain": [
       "3"
      ]
     },
     "execution_count": 5,
     "metadata": {},
     "output_type": "execute_result"
    }
   ],
   "source": [
    " "
   ]
  },
  {
   "cell_type": "code",
   "execution_count": null,
   "id": "0c940486-eb0a-448a-9e60-92d95e8a5f8e",
   "metadata": {},
   "outputs": [],
   "source": []
  }
 ],
 "metadata": {
  "kernelspec": {
   "display_name": "Python 3 (ipykernel)",
   "language": "python",
   "name": "python3"
  },
  "language_info": {
   "codemirror_mode": {
    "name": "ipython",
    "version": 3
   },
   "file_extension": ".py",
   "mimetype": "text/x-python",
   "name": "python",
   "nbconvert_exporter": "python",
   "pygments_lexer": "ipython3",
   "version": "3.9.7"
  }
 },
 "nbformat": 4,
 "nbformat_minor": 5
}
