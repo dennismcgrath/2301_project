{
 "cells": [
  {
   "cell_type": "code",
   "execution_count": 9,
   "id": "9e3e16b1-c124-4028-b372-4896cf03a896",
   "metadata": {},
   "outputs": [
    {
     "ename": "ModuleNotFoundError",
     "evalue": "No module named 'ali.py'; 'ali' is not a package",
     "output_type": "error",
     "traceback": [
      "\u001b[0;31m---------------------------------------------------------------------------\u001b[0m",
      "\u001b[0;31mModuleNotFoundError\u001b[0m                       Traceback (most recent call last)",
      "Cell \u001b[0;32mIn[9], line 1\u001b[0m\n\u001b[0;32m----> 1\u001b[0m \u001b[38;5;28;01mimport\u001b[39;00m \u001b[38;5;21;01mali\u001b[39;00m\u001b[38;5;21;01m.\u001b[39;00m\u001b[38;5;21;01mpy\u001b[39;00m\n\u001b[1;32m      2\u001b[0m \u001b[38;5;28;01mimport\u001b[39;00m \u001b[38;5;21;01mmari\u001b[39;00m\u001b[38;5;21;01m.\u001b[39;00m\u001b[38;5;21;01mpy\u001b[39;00m\n\u001b[1;32m      3\u001b[0m \u001b[38;5;28;01mimport\u001b[39;00m \u001b[38;5;21;01mshaday\u001b[39;00m\u001b[38;5;21;01m.\u001b[39;00m\u001b[38;5;21;01mpy\u001b[39;00m\n",
      "\u001b[0;31mModuleNotFoundError\u001b[0m: No module named 'ali.py'; 'ali' is not a package"
     ]
    }
   ],
   "source": [
    "import ali.py\n",
    "import mari.py\n",
    "import shaday.py\n",
    "import virna.py\n",
    "import victor.py\n",
    "import chad.py\n",
    "import rosemary.py\n",
    "import ess.py\n",
    "import rosana.py\n",
    "import brenda.py\n",
    "import kosta.py\n",
    "import marcus.py\n",
    "import kristian.py\n",
    "import daphney.py\n",
    "import diana.py\n",
    "import sol.py\n",
    "import adam.py\n",
    "import chrissy.py\n",
    "import angelica.py\n",
    "import tim.py\n",
    "import aaron.py"
   ]
  },
  {
   "cell_type": "code",
   "execution_count": null,
   "id": "4c7324d7-4e73-41bd-8ad5-f4f7b5c7867d",
   "metadata": {},
   "outputs": [],
   "source": []
  }
 ],
 "metadata": {
  "kernelspec": {
   "display_name": "Python 3 (ipykernel)",
   "language": "python",
   "name": "python3"
  },
  "language_info": {
   "codemirror_mode": {
    "name": "ipython",
    "version": 3
   },
   "file_extension": ".py",
   "mimetype": "text/x-python",
   "name": "python",
   "nbconvert_exporter": "python",
   "pygments_lexer": "ipython3",
   "version": "3.9.7"
  }
 },
 "nbformat": 4,
 "nbformat_minor": 5
}
